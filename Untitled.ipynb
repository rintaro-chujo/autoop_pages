{
 "cells": [
  {
   "cell_type": "code",
   "execution_count": 1,
   "metadata": {},
   "outputs": [],
   "source": [
    "import glob\n",
    "import os"
   ]
  },
  {
   "cell_type": "code",
   "execution_count": 5,
   "metadata": {},
   "outputs": [
    {
     "name": "stdout",
     "output_type": "stream",
     "text": [
      "https://rintaro-chujo.github.io/autoop_pages/mturk_0225/0.12_0.48_1.jpeg\n",
      "https://rintaro-chujo.github.io/autoop_pages/mturk_0225/0.12_0.56_1.jpeg\n",
      "https://rintaro-chujo.github.io/autoop_pages/mturk_0225/0.04_0.64_1.jpeg\n",
      "https://rintaro-chujo.github.io/autoop_pages/mturk_0225/0_0.56_1.jpeg\n",
      "https://rintaro-chujo.github.io/autoop_pages/mturk_0225/0.2_0.64_1.jpeg\n",
      "https://rintaro-chujo.github.io/autoop_pages/mturk_0225/0_0.48_1.jpeg\n",
      "https://rintaro-chujo.github.io/autoop_pages/mturk_0225/0.28_0_1.jpeg\n",
      "https://rintaro-chujo.github.io/autoop_pages/mturk_0225/0.36_0.64_1.jpeg\n",
      "https://rintaro-chujo.github.io/autoop_pages/mturk_0225/0.28_0.24_1.jpeg\n",
      "https://rintaro-chujo.github.io/autoop_pages/mturk_0225/0.12_0.72_1.jpeg\n",
      "https://rintaro-chujo.github.io/autoop_pages/mturk_0225/0_0.72_1.jpeg\n",
      "https://rintaro-chujo.github.io/autoop_pages/mturk_0225/0.16_0_1.jpeg\n",
      "https://rintaro-chujo.github.io/autoop_pages/mturk_0225/0.28_0.4_1.jpeg\n",
      "https://rintaro-chujo.github.io/autoop_pages/mturk_0225/0.4_0.jpeg\n",
      "https://rintaro-chujo.github.io/autoop_pages/mturk_0225/0.28_0.8_1.jpeg\n",
      "https://rintaro-chujo.github.io/autoop_pages/mturk_0225/0.16_0.24_1.jpeg\n",
      "https://rintaro-chujo.github.io/autoop_pages/mturk_0225/0.32_0.32_1.jpeg\n",
      "https://rintaro-chujo.github.io/autoop_pages/mturk_0225/0.4_0.72_1.jpeg\n",
      "https://rintaro-chujo.github.io/autoop_pages/mturk_0225/0.08_0.64_1.jpeg\n",
      "https://rintaro-chujo.github.io/autoop_pages/mturk_0225/0.2_0.8_1.jpeg\n",
      "https://rintaro-chujo.github.io/autoop_pages/mturk_0225/0.12_0.8_1.jpeg\n",
      "https://rintaro-chujo.github.io/autoop_pages/mturk_0225/0.4_0.48_1.jpeg\n",
      "https://rintaro-chujo.github.io/autoop_pages/mturk_0225/0.32_0.08_1.jpeg\n",
      "https://rintaro-chujo.github.io/autoop_pages/mturk_0225/0.12_0.4_1.jpeg\n",
      "https://rintaro-chujo.github.io/autoop_pages/mturk_0225/0.2_0.4_1.jpeg\n",
      "https://rintaro-chujo.github.io/autoop_pages/mturk_0225/0.32_0.16_1.jpeg\n",
      "https://rintaro-chujo.github.io/autoop_pages/mturk_0225/0.4_0.56_1.jpeg\n",
      "https://rintaro-chujo.github.io/autoop_pages/mturk_0225/0.24_0.24_1.jpeg\n",
      "https://rintaro-chujo.github.io/autoop_pages/mturk_0225/0.32_0_1.jpeg\n",
      "https://rintaro-chujo.github.io/autoop_pages/mturk_0225/0.16_0.16_1.jpeg\n",
      "https://rintaro-chujo.github.io/autoop_pages/mturk_0225/0.08_0.48_1.jpeg\n",
      "https://rintaro-chujo.github.io/autoop_pages/mturk_0225/0.08_0.56_1.jpeg\n",
      "https://rintaro-chujo.github.io/autoop_pages/mturk_0225/0.24_0.32_1.jpeg\n",
      "https://rintaro-chujo.github.io/autoop_pages/mturk_0225/0.16_0.08_1.jpeg\n",
      "https://rintaro-chujo.github.io/autoop_pages/mturk_0225/0.04_0.8_1.jpeg\n",
      "https://rintaro-chujo.github.io/autoop_pages/mturk_0225/0.16_0.32_1.jpeg\n",
      "https://rintaro-chujo.github.io/autoop_pages/mturk_0225/0.24_0.08_1.jpeg\n",
      "https://rintaro-chujo.github.io/autoop_pages/mturk_0225/0.4_0.64_1.jpeg\n",
      "https://rintaro-chujo.github.io/autoop_pages/mturk_0225/0.32_0.24_1.jpeg\n",
      "https://rintaro-chujo.github.io/autoop_pages/mturk_0225/0.04_0.4_1.jpeg\n",
      "https://rintaro-chujo.github.io/autoop_pages/mturk_0225/0.24_0.16_1.jpeg\n",
      "https://rintaro-chujo.github.io/autoop_pages/mturk_0225/0.08_0.72_1.jpeg\n",
      "https://rintaro-chujo.github.io/autoop_pages/mturk_0225/0.24_0_1.jpeg\n",
      "https://rintaro-chujo.github.io/autoop_pages/mturk_0225/0.36_0.4_1.jpeg\n",
      "https://rintaro-chujo.github.io/autoop_pages/mturk_0225/0.36_0.8_1.jpeg\n",
      "https://rintaro-chujo.github.io/autoop_pages/mturk_0225/0.2_0.jpeg\n",
      "https://rintaro-chujo.github.io/autoop_pages/mturk_0225/0.36_0.72_1.jpeg\n",
      "https://rintaro-chujo.github.io/autoop_pages/mturk_0225/0.04_0.48_1.jpeg\n",
      "https://rintaro-chujo.github.io/autoop_pages/mturk_0225/0.28_0.32_1.jpeg\n",
      "https://rintaro-chujo.github.io/autoop_pages/mturk_0225/0.12_0.64_1.jpeg\n",
      "https://rintaro-chujo.github.io/autoop_pages/mturk_0225/0.04_0.56_1.jpeg\n",
      "https://rintaro-chujo.github.io/autoop_pages/mturk_0225/0.2_0.56_1.jpeg\n",
      "https://rintaro-chujo.github.io/autoop_pages/mturk_0225/0_0.64_1.jpeg\n",
      "https://rintaro-chujo.github.io/autoop_pages/mturk_0225/0.2_0.48_1.jpeg\n",
      "https://rintaro-chujo.github.io/autoop_pages/mturk_0225/0.28_0.08_1.jpeg\n",
      "https://rintaro-chujo.github.io/autoop_pages/mturk_0225/0.36_0.56_1.jpeg\n",
      "https://rintaro-chujo.github.io/autoop_pages/mturk_0225/0.04_0.72_1.jpeg\n",
      "https://rintaro-chujo.github.io/autoop_pages/mturk_0225/0.36_0.48_1.jpeg\n",
      "https://rintaro-chujo.github.io/autoop_pages/mturk_0225/0.28_0.16_1.jpeg\n",
      "https://rintaro-chujo.github.io/autoop_pages/mturk_0225/0.2_0.72_1.jpeg\n",
      "https://rintaro-chujo.github.io/autoop_pages/mturk_0225/0.08_0.32_1.jpeg\n",
      "https://rintaro-chujo.github.io/autoop_pages/mturk_0225/0.32_0.64_1.jpeg\n",
      "https://rintaro-chujo.github.io/autoop_pages/mturk_0225/0.4_0.24_1.jpeg\n",
      "https://rintaro-chujo.github.io/autoop_pages/mturk_0225/0.24_0.56_1.jpeg\n",
      "https://rintaro-chujo.github.io/autoop_pages/mturk_0225/0.16_0.72_1.jpeg\n",
      "https://rintaro-chujo.github.io/autoop_pages/mturk_0225/0.24_0.48_1.jpeg\n",
      "https://rintaro-chujo.github.io/autoop_pages/mturk_0225/0.36_0_1.jpeg\n",
      "https://rintaro-chujo.github.io/autoop_pages/mturk_0225/0.24_0.4_1.jpeg\n",
      "https://rintaro-chujo.github.io/autoop_pages/mturk_0225/0.24_0.72_1.jpeg\n",
      "https://rintaro-chujo.github.io/autoop_pages/mturk_0225/0.16_0.48_1.jpeg\n",
      "https://rintaro-chujo.github.io/autoop_pages/mturk_0225/0.08_0.16_1.jpeg\n",
      "https://rintaro-chujo.github.io/autoop_pages/mturk_0225/0.08_0.08_1.jpeg\n",
      "https://rintaro-chujo.github.io/autoop_pages/mturk_0225/0.08_0_1.jpeg\n",
      "https://rintaro-chujo.github.io/autoop_pages/mturk_0225/0.16_0.56_1.jpeg\n",
      "https://rintaro-chujo.github.io/autoop_pages/mturk_0225/0.24_0.8_1.jpeg\n",
      "https://rintaro-chujo.github.io/autoop_pages/mturk_0225/0.16_0.8_1.jpeg\n",
      "https://rintaro-chujo.github.io/autoop_pages/mturk_0225/0.16_0.4_1.jpeg\n",
      "https://rintaro-chujo.github.io/autoop_pages/mturk_0225/0.28_0.56_1.jpeg\n",
      "https://rintaro-chujo.github.io/autoop_pages/mturk_0225/0.04_0.32_1.jpeg\n",
      "https://rintaro-chujo.github.io/autoop_pages/mturk_0225/0.36_0.08_1.jpeg\n",
      "https://rintaro-chujo.github.io/autoop_pages/mturk_0225/0.36_0.16_1.jpeg\n",
      "https://rintaro-chujo.github.io/autoop_pages/mturk_0225/0.28_0.48_1.jpeg\n",
      "https://rintaro-chujo.github.io/autoop_pages/mturk_0225/0.2_0.32_1.jpeg\n",
      "https://rintaro-chujo.github.io/autoop_pages/mturk_0225/0.12_0.24_1.jpeg\n",
      "https://rintaro-chujo.github.io/autoop_pages/mturk_0225/0.04_0.16_1.jpeg\n",
      "https://rintaro-chujo.github.io/autoop_pages/mturk_0225/0.28_0.72_1.jpeg\n",
      "https://rintaro-chujo.github.io/autoop_pages/mturk_0225/0.36_0.32_1.jpeg\n",
      "https://rintaro-chujo.github.io/autoop_pages/mturk_0225/0.04_0.08_1.jpeg\n",
      "https://rintaro-chujo.github.io/autoop_pages/mturk_0225/0_0.jpeg\n",
      "https://rintaro-chujo.github.io/autoop_pages/mturk_0225/0.2_0.08_1.jpeg\n",
      "https://rintaro-chujo.github.io/autoop_pages/mturk_0225/0_0.24_1.jpeg\n",
      "https://rintaro-chujo.github.io/autoop_pages/mturk_0225/0.2_0.16_1.jpeg\n",
      "https://rintaro-chujo.github.io/autoop_pages/mturk_0225/0.12_0_1.jpeg\n",
      "https://rintaro-chujo.github.io/autoop_pages/mturk_0225/0.12_0.32_1.jpeg\n",
      "https://rintaro-chujo.github.io/autoop_pages/mturk_0225/0.28_0.64_1.jpeg\n",
      "https://rintaro-chujo.github.io/autoop_pages/mturk_0225/0.36_0.24_1.jpeg\n",
      "https://rintaro-chujo.github.io/autoop_pages/mturk_0225/0_0.32_1.jpeg\n",
      "https://rintaro-chujo.github.io/autoop_pages/mturk_0225/0.12_0.16_1.jpeg\n",
      "https://rintaro-chujo.github.io/autoop_pages/mturk_0225/0.04_0.24_1.jpeg\n",
      "https://rintaro-chujo.github.io/autoop_pages/mturk_0225/0.12_0.08_1.jpeg\n",
      "https://rintaro-chujo.github.io/autoop_pages/mturk_0225/0.2_0.24_1.jpeg\n",
      "https://rintaro-chujo.github.io/autoop_pages/mturk_0225/0_0.16_1.jpeg\n",
      "https://rintaro-chujo.github.io/autoop_pages/mturk_0225/0.4_0.8_1.jpeg\n",
      "https://rintaro-chujo.github.io/autoop_pages/mturk_0225/0_0.4.jpeg\n",
      "https://rintaro-chujo.github.io/autoop_pages/mturk_0225/0.4_0.4_1.jpeg\n",
      "https://rintaro-chujo.github.io/autoop_pages/mturk_0225/0.04_0_1.jpeg\n",
      "https://rintaro-chujo.github.io/autoop_pages/mturk_0225/0.08_0.8_1.jpeg\n",
      "https://rintaro-chujo.github.io/autoop_pages/mturk_0225/0.08_0.4_1.jpeg\n",
      "https://rintaro-chujo.github.io/autoop_pages/mturk_0225/0.4_0.16_1.jpeg\n",
      "https://rintaro-chujo.github.io/autoop_pages/mturk_0225/0.32_0.56_1.jpeg\n",
      "https://rintaro-chujo.github.io/autoop_pages/mturk_0225/0.24_0.64_1.jpeg\n",
      "https://rintaro-chujo.github.io/autoop_pages/mturk_0225/0_0.8.jpeg\n",
      "https://rintaro-chujo.github.io/autoop_pages/mturk_0225/0.32_0.48_1.jpeg\n",
      "https://rintaro-chujo.github.io/autoop_pages/mturk_0225/0.4_0.08_1.jpeg\n",
      "https://rintaro-chujo.github.io/autoop_pages/mturk_0225/0.32_0.4_1.jpeg\n",
      "https://rintaro-chujo.github.io/autoop_pages/mturk_0225/0.08_0.24_1.jpeg\n",
      "https://rintaro-chujo.github.io/autoop_pages/mturk_0225/0.32_0.8_1.jpeg\n",
      "https://rintaro-chujo.github.io/autoop_pages/mturk_0225/0.4_0.32_1.jpeg\n",
      "https://rintaro-chujo.github.io/autoop_pages/mturk_0225/0.32_0.72_1.jpeg\n",
      "https://rintaro-chujo.github.io/autoop_pages/mturk_0225/0.16_0.64_1.jpeg\n"
     ]
    }
   ],
   "source": [
    "for i in glob.glob(\"mturk_0225/*\"):\n",
    "    print(\"https://rintaro-chujo.github.io/autoop_pages/\"+i)"
   ]
  },
  {
   "cell_type": "code",
   "execution_count": 53,
   "metadata": {},
   "outputs": [
    {
     "name": "stdout",
     "output_type": "stream",
     "text": [
      "0.48\n",
      "0.56\n",
      "0.64\n",
      "0.56\n",
      "0.64\n",
      "0.48\n",
      "0\n",
      "0.64\n",
      "0.24\n",
      "0.72\n",
      "0.72\n",
      "0\n",
      "0.4\n",
      "\n",
      "0.8\n",
      "0.24\n",
      "0.32\n",
      "0.72\n",
      "0.64\n",
      "0.8\n",
      "0.8\n",
      "0.48\n",
      "0.08\n",
      "0.4\n",
      "0.4\n",
      "0.16\n",
      "0.56\n",
      "0.24\n",
      "0\n",
      "0.16\n",
      "0.48\n",
      "0.56\n",
      "0.32\n",
      "0.08\n",
      "0.8\n",
      "0.32\n",
      "0.08\n",
      "0.64\n",
      "0.24\n",
      "0.4\n",
      "0.16\n",
      "0.72\n",
      "0\n",
      "0.4\n",
      "0.8\n",
      "\n",
      "0.72\n",
      "0.48\n",
      "0.32\n",
      "0.64\n",
      "0.56\n",
      "0.56\n",
      "0.64\n",
      "0.48\n",
      "0.08\n",
      "0.56\n",
      "0.72\n",
      "0.48\n",
      "0.16\n",
      "0.72\n",
      "0.32\n",
      "0.64\n",
      "0.24\n",
      "0.56\n",
      "0.72\n",
      "0.48\n",
      "0\n",
      "0.4\n",
      "0.72\n",
      "0.48\n",
      "0.16\n",
      "0.08\n",
      "0\n",
      "0.56\n",
      "0.8\n",
      "0.8\n",
      "0.4\n",
      "0.56\n",
      "0.32\n",
      "0.08\n",
      "0.16\n",
      "0.48\n",
      "0.32\n",
      "0.24\n",
      "0.16\n",
      "0.72\n",
      "0.32\n",
      "0.08\n",
      "\n",
      "0.08\n",
      "0.24\n",
      "0.16\n",
      "0\n",
      "0.32\n",
      "0.64\n",
      "0.24\n",
      "0.32\n",
      "0.16\n",
      "0.24\n",
      "0.08\n",
      "0.24\n",
      "0.16\n",
      "0.8\n",
      "\n",
      "0.4\n",
      "0\n",
      "0.8\n",
      "0.4\n",
      "0.16\n",
      "0.56\n",
      "0.64\n",
      "\n",
      "0.48\n",
      "0.08\n",
      "0.4\n",
      "0.24\n",
      "0.8\n",
      "0.32\n",
      "0.72\n",
      "0.64\n"
     ]
    }
   ],
   "source": [
    "for i in glob.glob(\"mturk_0225/*\"):\n",
    "    url=i\n",
    "    num1=url[11:].find(\"_\")\n",
    "    str1=url[11:11+num1]\n",
    "    num2=url[12+num1:].find(\"_\")\n",
    "    str2=url[12+num1:12+num1+num2]\n",
    "    print(str2)"
   ]
  },
  {
   "cell_type": "code",
   "execution_count": 49,
   "metadata": {},
   "outputs": [
    {
     "data": {
      "text/plain": [
       "0"
      ]
     },
     "execution_count": 49,
     "metadata": {},
     "output_type": "execute_result"
    }
   ],
   "source": [
    "url=\"mturk_0225/0.32_0.4_1.jpeg\"\n",
    "url.find('mturk_0225')"
   ]
  },
  {
   "cell_type": "code",
   "execution_count": 47,
   "metadata": {},
   "outputs": [
    {
     "name": "stdout",
     "output_type": "stream",
     "text": [
      "000\n"
     ]
    }
   ],
   "source": [
    "url=\"https://rintaro-chujo.github.io/autoop_pages/mturk_0225/000_0.32_1.jpeg\"\n",
    "num1=url[56:].find(\"_\")\n",
    "str1=url[56:56+num1]\n",
    "print(str1)\n"
   ]
  },
  {
   "cell_type": "code",
   "execution_count": 42,
   "metadata": {},
   "outputs": [
    {
     "name": "stdout",
     "output_type": "stream",
     "text": [
      "0.32\n"
     ]
    }
   ],
   "source": [
    "num2=url[57+num1:].find(\"_\")\n",
    "str2=url[57+num1:57+num1+num2]\n",
    "print(str2)"
   ]
  },
  {
   "cell_type": "code",
   "execution_count": 43,
   "metadata": {},
   "outputs": [
    {
     "data": {
      "text/plain": [
       "4"
      ]
     },
     "execution_count": 43,
     "metadata": {},
     "output_type": "execute_result"
    }
   ],
   "source": [
    "url[56+num1+1:].find(\"_\")"
   ]
  },
  {
   "cell_type": "code",
   "execution_count": null,
   "metadata": {},
   "outputs": [],
   "source": []
  }
 ],
 "metadata": {
  "kernelspec": {
   "display_name": "Python 3",
   "language": "python",
   "name": "python3"
  },
  "language_info": {
   "codemirror_mode": {
    "name": "ipython",
    "version": 3
   },
   "file_extension": ".py",
   "mimetype": "text/x-python",
   "name": "python",
   "nbconvert_exporter": "python",
   "pygments_lexer": "ipython3",
   "version": "3.7.4"
  }
 },
 "nbformat": 4,
 "nbformat_minor": 4
}
